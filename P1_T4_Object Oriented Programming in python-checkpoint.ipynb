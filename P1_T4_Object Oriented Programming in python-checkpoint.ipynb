{
 "cells": [
  {
   "cell_type": "markdown",
   "metadata": {},
   "source": [
    "<p>classes\n",
    "the self \n",
    "Methods\n",
    "the 'init'</p>"
   ]
  },
  {
   "cell_type": "markdown",
   "metadata": {},
   "source": [
    "# object oriented programing"
   ]
  },
  {
   "cell_type": "code",
   "execution_count": 1,
   "metadata": {},
   "outputs": [],
   "source": [
    "# classes and objects are the main aspects of oops.\n",
    "#A class creates a new type where objects are instances of the class.\n",
    "# class is created using the class keyword\n",
    "# class name start with the capital letter"
   ]
  },
  {
   "cell_type": "markdown",
   "metadata": {},
   "source": [
    "### class"
   ]
  },
  {
   "cell_type": "code",
   "execution_count": 2,
   "metadata": {},
   "outputs": [],
   "source": [
    "class Person:\n",
    "    pass # An empty block"
   ]
  },
  {
   "cell_type": "code",
   "execution_count": 4,
   "metadata": {},
   "outputs": [
    {
     "name": "stdout",
     "output_type": "stream",
     "text": [
      "<__main__.Person object at 0x03D4E1D0>\n"
     ]
    }
   ],
   "source": [
    "p=Person()\n",
    "print(p)# memory location and type"
   ]
  },
  {
   "cell_type": "markdown",
   "metadata": {},
   "source": [
    "## The self"
   ]
  },
  {
   "cell_type": "code",
   "execution_count": null,
   "metadata": {},
   "outputs": [],
   "source": [
    "# self take object name"
   ]
  },
  {
   "cell_type": "markdown",
   "metadata": {},
   "source": [
    "### Methods"
   ]
  },
  {
   "cell_type": "code",
   "execution_count": 8,
   "metadata": {},
   "outputs": [],
   "source": [
    "class Person:\n",
    "    def say_hi(self):\n",
    "        print('Hello,how are you?')\n",
    "        "
   ]
  },
  {
   "cell_type": "code",
   "execution_count": 9,
   "metadata": {},
   "outputs": [
    {
     "name": "stdout",
     "output_type": "stream",
     "text": [
      "Hello,how are you?\n"
     ]
    }
   ],
   "source": [
    "p=Person()\n",
    "p.say_hi()"
   ]
  },
  {
   "cell_type": "markdown",
   "metadata": {},
   "source": [
    "### The init method"
   ]
  },
  {
   "cell_type": "code",
   "execution_count": 10,
   "metadata": {},
   "outputs": [],
   "source": [
    "# init method is run as soon as an object of a class is instantiated.(like constructor in c++)\n",
    "#initialisation to the object"
   ]
  },
  {
   "cell_type": "code",
   "execution_count": 16,
   "metadata": {},
   "outputs": [],
   "source": [
    "class Person:\n",
    "    def __init__(self,fname):\n",
    "        self.name=fname\n",
    "        print(self.name)"
   ]
  },
  {
   "cell_type": "code",
   "execution_count": 17,
   "metadata": {},
   "outputs": [
    {
     "name": "stdout",
     "output_type": "stream",
     "text": [
      "Swpnil\n"
     ]
    }
   ],
   "source": [
    "p=Person('Swpnil')"
   ]
  },
  {
   "cell_type": "code",
   "execution_count": 18,
   "metadata": {},
   "outputs": [
    {
     "name": "stdout",
     "output_type": "stream",
     "text": [
      "Anil\n"
     ]
    }
   ],
   "source": [
    "q=Person('Anil')"
   ]
  },
  {
   "cell_type": "code",
   "execution_count": 19,
   "metadata": {},
   "outputs": [
    {
     "data": {
      "text/plain": [
       "'Swpnil'"
      ]
     },
     "execution_count": 19,
     "metadata": {},
     "output_type": "execute_result"
    }
   ],
   "source": [
    "p.name"
   ]
  },
  {
   "cell_type": "code",
   "execution_count": 20,
   "metadata": {},
   "outputs": [
    {
     "data": {
      "text/plain": [
       "'Anil'"
      ]
     },
     "execution_count": 20,
     "metadata": {},
     "output_type": "execute_result"
    }
   ],
   "source": [
    "q.name"
   ]
  },
  {
   "cell_type": "markdown",
   "metadata": {},
   "source": [
    "### Class and Object Variables"
   ]
  },
  {
   "cell_type": "code",
   "execution_count": 22,
   "metadata": {},
   "outputs": [],
   "source": [
    "class Robot:\n",
    "    \"\"\"Representation a robot ,with a name.\"\"\"\n",
    "    # A class variable,counting the number of robots\n",
    "    population=0\n",
    "    \n",
    "    def __init__(self,name):\n",
    "        \"\"\"Initializes the data.\"\"\"\n",
    "        self.name=name\n",
    "        print(\"Initializing {}\".format(self.name))\n",
    "        # When this robot is created,the robot\n",
    "        #adds to the population\n",
    "        Robot.population +=1\n",
    "        \n",
    "    def die(self):\n",
    "        \"\"\"I am dying.\"\"\"\n",
    "        print(\"{} is being destroyed !\".format(self.name))\n",
    "        Robot.population -=1\n",
    "        if  Robot.population==0:\n",
    "            print(\"{} was the last one.\".format(self.name))\n",
    "        else:\n",
    "            print(\"There are still {:d} robot working.\".format(Robot.population))\n",
    "            \n",
    "    def say_hi(self):\n",
    "        \"\"\"Greeting by the robot Yeah,they can do that.\"\"\"\n",
    "        print(\"Greeting ,my master call me {} .\".format(self.name))\n",
    "        \n",
    "    @classmethod\n",
    "    def how_many(cls):\n",
    "        \"\"\"Print the current population.\"\"\"\n",
    "        print(\"We have {:d} robots.\".format(cls.population))\n",
    "        \n",
    " "
   ]
  },
  {
   "cell_type": "code",
   "execution_count": 24,
   "metadata": {},
   "outputs": [
    {
     "name": "stdout",
     "output_type": "stream",
     "text": [
      "Initializing R2-D2\n",
      "Greeting ,my master call me R2-D2 .\n"
     ]
    }
   ],
   "source": [
    "    droid1=Robot(\"R2-D2\")\n",
    "    droid1.say_hi()"
   ]
  },
  {
   "cell_type": "code",
   "execution_count": 25,
   "metadata": {},
   "outputs": [
    {
     "name": "stdout",
     "output_type": "stream",
     "text": [
      "Initializing R3-D3\n",
      "Greeting ,my master call me R3-D3 .\n"
     ]
    }
   ],
   "source": [
    "    droid1=Robot(\"R3-D3\")\n",
    "    droid1.say_hi()"
   ]
  },
  {
   "cell_type": "code",
   "execution_count": 30,
   "metadata": {},
   "outputs": [
    {
     "name": "stdout",
     "output_type": "stream",
     "text": [
      "Initializing C-3po\n",
      "Greeting ,my master call me C-3po .\n"
     ]
    }
   ],
   "source": [
    "droid2=Robot(\"C-3po\")\n",
    "droid2.say_hi()"
   ]
  },
  {
   "cell_type": "code",
   "execution_count": 26,
   "metadata": {},
   "outputs": [
    {
     "name": "stdout",
     "output_type": "stream",
     "text": [
      "We have 2 robots.\n"
     ]
    }
   ],
   "source": [
    "Robot.how_many()#class methods call"
   ]
  },
  {
   "cell_type": "code",
   "execution_count": 27,
   "metadata": {},
   "outputs": [
    {
     "name": "stdout",
     "output_type": "stream",
     "text": [
      "\n",
      "Robots can do same work here .\n",
      "\n"
     ]
    }
   ],
   "source": [
    "print(\"\\nRobots can do same work here .\\n\")"
   ]
  },
  {
   "cell_type": "code",
   "execution_count": 28,
   "metadata": {},
   "outputs": [
    {
     "name": "stdout",
     "output_type": "stream",
     "text": [
      "\n",
      "Robot have finished their work. so let's destroy them.\n"
     ]
    }
   ],
   "source": [
    "print(\"\\nRobot have finished their work. so let's destroy them.\")\n"
   ]
  },
  {
   "cell_type": "code",
   "execution_count": 29,
   "metadata": {},
   "outputs": [
    {
     "name": "stdout",
     "output_type": "stream",
     "text": [
      "R3-D3 is being destroyed !\n",
      "There are still 1 robot working.\n"
     ]
    }
   ],
   "source": [
    "droid1.die()"
   ]
  },
  {
   "cell_type": "code",
   "execution_count": 31,
   "metadata": {},
   "outputs": [
    {
     "name": "stdout",
     "output_type": "stream",
     "text": [
      "C-3po is being destroyed !\n",
      "There are still 1 robot working.\n"
     ]
    }
   ],
   "source": [
    "droid2.die()"
   ]
  },
  {
   "cell_type": "code",
   "execution_count": 32,
   "metadata": {},
   "outputs": [
    {
     "name": "stdout",
     "output_type": "stream",
     "text": [
      "We have 1 robots.\n"
     ]
    }
   ],
   "source": [
    "Robot.how_many()"
   ]
  },
  {
   "cell_type": "code",
   "execution_count": 33,
   "metadata": {},
   "outputs": [
    {
     "name": "stdout",
     "output_type": "stream",
     "text": [
      "Greeting by the robot Yeah,they can do that.\n"
     ]
    }
   ],
   "source": [
    "print(droid1.say_hi.__doc__)"
   ]
  },
  {
   "cell_type": "code",
   "execution_count": 34,
   "metadata": {},
   "outputs": [
    {
     "name": "stdout",
     "output_type": "stream",
     "text": [
      "I am dying.\n"
     ]
    }
   ],
   "source": [
    "print(droid2.die.__doc__)"
   ]
  },
  {
   "cell_type": "markdown",
   "metadata": {},
   "source": [
    "### Inheritance"
   ]
  },
  {
   "cell_type": "code",
   "execution_count": 42,
   "metadata": {},
   "outputs": [],
   "source": [
    "class SchoolMember:\n",
    "    \"\"\"Represent any school member.\"\"\"\n",
    "    def __init__(self,name,age):\n",
    "        self.name=name\n",
    "        self.age=age\n",
    "        \n",
    "        print('(Initialized SchoolMember: {} )'.format(self.name))\n",
    "    def tell(self):\n",
    "        \"\"\"Tell my Details.\"\"\"\n",
    "        print('name:\"{}\"Age: \"{}\"'.format(self.name,self.age))        "
   ]
  },
  {
   "cell_type": "code",
   "execution_count": 65,
   "metadata": {},
   "outputs": [],
   "source": [
    "class Teacher(SchoolMember):\n",
    "    \"\"\"Represents a teacher.\"\"\"\n",
    "    def __init__(self,name,age,salary):\n",
    "        SchoolMember.__init__(self,name,age)\n",
    "        self.salary=salary\n",
    "        \n",
    "        print('(Initialized teacher: {} )'.format(self.name))\n",
    "    def tell(self):\n",
    "        \"\"\"Tell my Details.\"\"\"\n",
    "        SchoolMember.tell(self)\n",
    "        print('salary:\"{:d}\"'.format(self.salary))\n",
    "        "
   ]
  },
  {
   "cell_type": "code",
   "execution_count": 66,
   "metadata": {},
   "outputs": [],
   "source": [
    "class Student(SchoolMember):\n",
    "    \"\"\"Represents a student.\"\"\"\n",
    "    def __init__(self,name,age,marks):\n",
    "        SchoolMember.__init__(self,name,age)\n",
    "        self.marks=marks\n",
    "        print('(Initialized student: {} )'.format(self.name))\n",
    "    def tell(self):\n",
    "        \"\"\"Tell my Details.\"\"\"\n",
    "        SchoolMember.tell(self)\n",
    "        print('marks:\"{:d}\"'.format(self.marks))\n",
    "        "
   ]
  },
  {
   "cell_type": "code",
   "execution_count": 67,
   "metadata": {},
   "outputs": [
    {
     "name": "stdout",
     "output_type": "stream",
     "text": [
      "(Initialized SchoolMember: Mr.shree )\n",
      "(Initialized teacher: Mr.shree )\n",
      "(Initialized SchoolMember: Swpnil )\n",
      "(Initialized student: Swpnil )\n"
     ]
    }
   ],
   "source": [
    "t=Teacher('Mr.shree',40,3000)\n",
    "s=Student('Swpnil',25,75)"
   ]
  },
  {
   "cell_type": "code",
   "execution_count": 68,
   "metadata": {},
   "outputs": [],
   "source": [
    "class SchoolMember:\n",
    "    \"\"\"Represent any school member.\"\"\"\n",
    "    def __init__(self,name,age):\n",
    "        self.name=name\n",
    "        self.age=age\n",
    "        \n",
    "        print('(Initialized SchoolMember: {} )'.format(self.name))\n",
    "    def tell(self):\n",
    "        \"\"\"Tell my Details.\"\"\"\n",
    "        print('name:\"{}\"Age: \"{}\"'.format(self.name,self.age))\n",
    "class Teacher(SchoolMember):\n",
    "    \"\"\"Represents a teacher.\"\"\"\n",
    "    def __init__(self,name,age,salary):\n",
    "        SchoolMember.__init__(self,name,age)\n",
    "        self.salary=salary\n",
    "        \n",
    "        print('(Initialized teacher: {} )'.format(self.name))\n",
    "    def tell(self):\n",
    "        \"\"\"Tell my Details.\"\"\"\n",
    "        SchoolMember.tell(self)\n",
    "        print('salary:\"{:d}\"'.format(self.salary)) \n",
    "class Student(SchoolMember):\n",
    "    \"\"\"Represents a student.\"\"\"\n",
    "    def __init__(self,name,age,marks):\n",
    "        SchoolMember.__init__(self,name,age)\n",
    "        self.marks=marks\n",
    "        print('(Initialized student: {} )'.format(self.name))\n",
    "    def tell(self):\n",
    "        \"\"\"Tell my Details.\"\"\"\n",
    "        SchoolMember.tell(self)\n",
    "        print('marks:\"{:d}\"'.format(self.marks))"
   ]
  },
  {
   "cell_type": "code",
   "execution_count": 69,
   "metadata": {},
   "outputs": [
    {
     "name": "stdout",
     "output_type": "stream",
     "text": [
      "(Initialized SchoolMember: Mr.shree )\n",
      "(Initialized teacher: Mr.shree )\n",
      "(Initialized SchoolMember: Swpnil )\n",
      "(Initialized student: Swpnil )\n"
     ]
    }
   ],
   "source": [
    "t=Teacher('Mr.shree',40,3000)\n",
    "s=Student('Swpnil',25,75)"
   ]
  },
  {
   "cell_type": "code",
   "execution_count": 47,
   "metadata": {},
   "outputs": [
    {
     "data": {
      "text/plain": [
       "3000"
      ]
     },
     "execution_count": 47,
     "metadata": {},
     "output_type": "execute_result"
    }
   ],
   "source": [
    "t.salary"
   ]
  },
  {
   "cell_type": "code",
   "execution_count": 51,
   "metadata": {},
   "outputs": [
    {
     "name": "stdout",
     "output_type": "stream",
     "text": [
      "name:\"Swpnil\"Age: \"25\"\n",
      "marks:\"75\"\n"
     ]
    }
   ],
   "source": [
    "s.tell()"
   ]
  },
  {
   "cell_type": "code",
   "execution_count": 70,
   "metadata": {},
   "outputs": [
    {
     "name": "stdout",
     "output_type": "stream",
     "text": [
      "name:\"Mr.shree\"Age: \"40\"\n",
      "salary:\"3000\"\n",
      "name:\"Swpnil\"Age: \"25\"\n",
      "marks:\"75\"\n"
     ]
    }
   ],
   "source": [
    "members=[t,s]\n",
    "for member in members:\n",
    "    # Works for both Teacher and Students\n",
    "    member.tell()"
   ]
  },
  {
   "cell_type": "code",
   "execution_count": 71,
   "metadata": {},
   "outputs": [
    {
     "name": "stdout",
     "output_type": "stream",
     "text": [
      "name:\"Mr.shree\"Age: \"40\"\n",
      "salary:\"3000\"\n"
     ]
    }
   ],
   "source": [
    "t.tell()"
   ]
  },
  {
   "cell_type": "code",
   "execution_count": 59,
   "metadata": {},
   "outputs": [
    {
     "name": "stdout",
     "output_type": "stream",
     "text": [
      "name:\"Swpnil\"Age: \"25\"\n",
      "marks:\"75\"\n"
     ]
    }
   ],
   "source": [
    "s.tell()"
   ]
  },
  {
   "cell_type": "code",
   "execution_count": null,
   "metadata": {},
   "outputs": [],
   "source": []
  }
 ],
 "metadata": {
  "kernelspec": {
   "display_name": "Python 3",
   "language": "python",
   "name": "python3"
  },
  "language_info": {
   "codemirror_mode": {
    "name": "ipython",
    "version": 3
   },
   "file_extension": ".py",
   "mimetype": "text/x-python",
   "name": "python",
   "nbconvert_exporter": "python",
   "pygments_lexer": "ipython3",
   "version": "3.7.3"
  }
 },
 "nbformat": 4,
 "nbformat_minor": 2
}
