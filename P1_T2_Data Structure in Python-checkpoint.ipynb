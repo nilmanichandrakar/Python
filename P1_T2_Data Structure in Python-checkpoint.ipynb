{
 "cells": [
  {
   "cell_type": "markdown",
   "metadata": {},
   "source": [
    "# Data Structure"
   ]
  },
  {
   "cell_type": "markdown",
   "metadata": {},
   "source": [
    "## String"
   ]
  },
  {
   "cell_type": "code",
   "execution_count": 1,
   "metadata": {},
   "outputs": [
    {
     "name": "stdout",
     "output_type": "stream",
     "text": [
      "T\n",
      "h\n",
      "i\n",
      "s\n"
     ]
    }
   ],
   "source": [
    "str1=\"This is a test.\"\n",
    "print(str1[0])\n",
    "print(str1[1])\n",
    "print(str1[2])\n",
    "print(str1[3])"
   ]
  },
  {
   "cell_type": "code",
   "execution_count": 2,
   "metadata": {},
   "outputs": [
    {
     "name": "stdout",
     "output_type": "stream",
     "text": [
      "15\n"
     ]
    }
   ],
   "source": [
    "print(len(str1))"
   ]
  },
  {
   "cell_type": "code",
   "execution_count": 7,
   "metadata": {},
   "outputs": [
    {
     "name": "stdout",
     "output_type": "stream",
     "text": [
      ".\n"
     ]
    }
   ],
   "source": [
    "print(str1[(len(str1)-1)])"
   ]
  },
  {
   "cell_type": "markdown",
   "metadata": {},
   "source": [
    "### Counting Backward"
   ]
  },
  {
   "cell_type": "code",
   "execution_count": 8,
   "metadata": {},
   "outputs": [
    {
     "name": "stdout",
     "output_type": "stream",
     "text": [
      ". t s\n"
     ]
    }
   ],
   "source": [
    "str1=\"This is a test.\"\n",
    "print(str1[-1],str1[-2],str1[-3])"
   ]
  },
  {
   "cell_type": "markdown",
   "metadata": {},
   "source": [
    "### Index Out of Range"
   ]
  },
  {
   "cell_type": "code",
   "execution_count": 9,
   "metadata": {},
   "outputs": [
    {
     "ename": "IndexError",
     "evalue": "string index out of range",
     "output_type": "error",
     "traceback": [
      "\u001b[1;31m---------------------------------------------------------------------------\u001b[0m",
      "\u001b[1;31mIndexError\u001b[0m                                Traceback (most recent call last)",
      "\u001b[1;32m<ipython-input-9-b3f7a93dc70b>\u001b[0m in \u001b[0;36m<module>\u001b[1;34m\u001b[0m\n\u001b[1;32m----> 1\u001b[1;33m \u001b[0mprint\u001b[0m\u001b[1;33m(\u001b[0m\u001b[0mstr1\u001b[0m\u001b[1;33m[\u001b[0m\u001b[1;36m5000\u001b[0m\u001b[1;33m]\u001b[0m\u001b[1;33m)\u001b[0m\u001b[1;33m\u001b[0m\u001b[1;33m\u001b[0m\u001b[0m\n\u001b[0m",
      "\u001b[1;31mIndexError\u001b[0m: string index out of range"
     ]
    }
   ],
   "source": [
    "print(str1[5000])\n"
   ]
  },
  {
   "cell_type": "markdown",
   "metadata": {},
   "source": [
    "#### Easy Traversal:for loop"
   ]
  },
  {
   "cell_type": "code",
   "execution_count": 12,
   "metadata": {},
   "outputs": [
    {
     "name": "stdout",
     "output_type": "stream",
     "text": [
      "I found a T \n"
     ]
    }
   ],
   "source": [
    "for mystr in \"sTyuifwe\":\n",
    "    if mystr=='T':\n",
    "        print(\"I found a T \")\n",
    "    "
   ]
  },
  {
   "cell_type": "markdown",
   "metadata": {},
   "source": [
    "### Grabbing Slices from a sequence"
   ]
  },
  {
   "cell_type": "code",
   "execution_count": 14,
   "metadata": {},
   "outputs": [
    {
     "name": "stdout",
     "output_type": "stream",
     "text": [
      "Th\n",
      "s i\n",
      "si \n",
      "his\n",
      "is\n"
     ]
    }
   ],
   "source": [
    "myString=\"This is test.\" #SEQUENCE_VAR[STRAT:END:SLICE]\n",
    "print(myString[0:2])\n",
    "print(myString[3:6])\n",
    "print(myString[3:9:2])\n",
    "print(myString[1:4])\n",
    "print(myString[5:7])"
   ]
  },
  {
   "cell_type": "markdown",
   "metadata": {},
   "source": [
    "### Slices -Default Value For Blanks"
   ]
  },
  {
   "cell_type": "code",
   "execution_count": 16,
   "metadata": {},
   "outputs": [
    {
     "name": "stdout",
     "output_type": "stream",
     "text": [
      "Th\n",
      "This i\n",
      "Ts.\n",
      "is test.\n",
      "This is test.\n",
      ".tset si sihT\n"
     ]
    }
   ],
   "source": [
    "myString=\"This is test.\"\n",
    "#if you leave the \"start\" part blank ,it assumes you want Zero.\n",
    "print(myString[:2])\n",
    "print(myString[:6])\n",
    "print(myString[::6])\n",
    "#if you leave the \"end\" part blank ,it assumes you want untill the end of string.\n",
    "print(myString[5:])\n",
    "print(myString[0:])\n",
    "print(myString[::-1])"
   ]
  },
  {
   "cell_type": "markdown",
   "metadata": {},
   "source": [
    "## List"
   ]
  },
  {
   "cell_type": "code",
   "execution_count": null,
   "metadata": {},
   "outputs": [],
   "source": [
    "#### ordered collection of items ,enclosed in  square  brackets,we can add ,remove or search ,mutable datastructure"
   ]
  },
  {
   "cell_type": "code",
   "execution_count": 4,
   "metadata": {},
   "outputs": [
    {
     "name": "stdout",
     "output_type": "stream",
     "text": [
      "I have 4 items to purchase\n",
      "These item are: \n",
      "apple\n",
      "mango\n",
      "carrot\n",
      "banana\n"
     ]
    }
   ],
   "source": [
    "shoplist=['apple','mango','carrot','banana']\n",
    "print('I have',len(shoplist),'items to purchase')\n",
    "\n",
    "print('These item are: ')\n",
    "for item in shoplist:\n",
    "    print(item)"
   ]
  },
  {
   "cell_type": "code",
   "execution_count": 5,
   "metadata": {},
   "outputs": [
    {
     "name": "stdout",
     "output_type": "stream",
     "text": [
      "I have 4 items to purchase\n",
      "These item are: \n",
      "apple\n",
      "mango\n",
      "carrot\n",
      "banana\n",
      "\n",
      "I also have to buy rice \n",
      "My shopping list is now  ['apple', 'mango', 'carrot', 'banana', 'rice']\n",
      "I will sort my list is now\n",
      "sorted shopping list is  ['apple', 'banana', 'carrot', 'mango', 'rice']\n"
     ]
    }
   ],
   "source": [
    "shoplist=['apple','mango','carrot','banana']\n",
    "print('I have',len(shoplist),'items to purchase')\n",
    "\n",
    "print('These item are: ')\n",
    "for item in shoplist:\n",
    "    print(item)\n",
    "\n",
    "print('\\nI also have to buy rice ')\n",
    "shoplist.append('rice')\n",
    "print('My shopping list is now ',shoplist)\n",
    "print('I will sort my list is now')\n",
    "shoplist.sort()\n",
    "print('sorted shopping list is ',shoplist)"
   ]
  },
  {
   "cell_type": "code",
   "execution_count": 7,
   "metadata": {},
   "outputs": [
    {
     "name": "stdout",
     "output_type": "stream",
     "text": [
      "I bought the rice\n",
      "My shopping list is now  ['apple', 'banana', 'carrot']\n"
     ]
    }
   ],
   "source": [
    "\n",
    "item='mango'\n",
    "if item in shoplist:\n",
    "    print(item +' is in the list')\n",
    "olditem=shoplist[3]\n",
    "del shoplist[3]\n",
    "print('I bought the',olditem)\n",
    "print('My shopping list is now ',shoplist)"
   ]
  },
  {
   "cell_type": "code",
   "execution_count": 8,
   "metadata": {},
   "outputs": [
    {
     "name": "stdout",
     "output_type": "stream",
     "text": [
      "Help on built-in function append:\n",
      "\n",
      "append(object, /) method of builtins.list instance\n",
      "    Append object to the end of the list.\n",
      "\n"
     ]
    }
   ],
   "source": [
    "help(shoplist.append)"
   ]
  },
  {
   "cell_type": "code",
   "execution_count": 9,
   "metadata": {},
   "outputs": [
    {
     "name": "stdout",
     "output_type": "stream",
     "text": [
      "[1, 2, 3, 4]\n",
      "[1, 2, 3, 4]\n"
     ]
    }
   ],
   "source": [
    "old_list=[1,2,3,4]\n",
    "new_list=old_list\n",
    "print(old_list)\n",
    "print(new_list)"
   ]
  },
  {
   "cell_type": "code",
   "execution_count": 10,
   "metadata": {},
   "outputs": [
    {
     "name": "stdout",
     "output_type": "stream",
     "text": [
      "[1, 2, 3, 4, 5]\n",
      "[1, 2, 3, 4, 5]\n"
     ]
    }
   ],
   "source": [
    "new_list.append(5)\n",
    "print(old_list)\n",
    "print(new_list)#its generate a problem"
   ]
  },
  {
   "cell_type": "code",
   "execution_count": null,
   "metadata": {},
   "outputs": [],
   "source": [
    "# to avoid this problem"
   ]
  },
  {
   "cell_type": "code",
   "execution_count": 11,
   "metadata": {},
   "outputs": [
    {
     "name": "stdout",
     "output_type": "stream",
     "text": [
      "[1, 2, 3, 4, 5]\n",
      "[1, 2, 3, 4, 5, 6]\n"
     ]
    }
   ],
   "source": [
    "#to remove the above problem\n",
    "new2_list=old_list.copy()\n",
    "new2_list.append(6)\n",
    "print(old_list)\n",
    "print(new2_list)"
   ]
  },
  {
   "cell_type": "markdown",
   "metadata": {},
   "source": [
    "### list comprehension"
   ]
  },
  {
   "cell_type": "markdown",
   "metadata": {},
   "source": [
    "#### syntax : new_list=[expression for loop_]"
   ]
  },
  {
   "cell_type": "code",
   "execution_count": 18,
   "metadata": {},
   "outputs": [
    {
     "name": "stdout",
     "output_type": "stream",
     "text": [
      "[1, 4, 9, 16]\n"
     ]
    }
   ],
   "source": [
    "#find square of a number using for loop\n",
    "numbers=[1,2,3,4]\n",
    "squares=[]\n",
    "\n",
    "for n in numbers:\n",
    "    squares.append(n**2)\n",
    "print(squares)"
   ]
  },
  {
   "cell_type": "code",
   "execution_count": 20,
   "metadata": {},
   "outputs": [
    {
     "name": "stdout",
     "output_type": "stream",
     "text": [
      "[1, 4, 9, 16]\n"
     ]
    }
   ],
   "source": [
    "numbers=[1,2,3,4]\n",
    "squares=[n**2 for n in numbers]\n",
    "print(squares)"
   ]
  },
  {
   "cell_type": "code",
   "execution_count": null,
   "metadata": {},
   "outputs": [],
   "source": [
    "# find common number in two list using for loop"
   ]
  },
  {
   "cell_type": "code",
   "execution_count": 21,
   "metadata": {},
   "outputs": [
    {
     "name": "stdout",
     "output_type": "stream",
     "text": [
      "[2, 3, 4]\n"
     ]
    }
   ],
   "source": [
    "list_a=[1,2,3,4]\n",
    "list_b=[2,3,4,5]\n",
    "\n",
    "common_num=[a for a in list_a for b in list_b if a==b]\n",
    "print(common_num)"
   ]
  },
  {
   "cell_type": "code",
   "execution_count": 22,
   "metadata": {},
   "outputs": [
    {
     "name": "stdout",
     "output_type": "stream",
     "text": [
      "[2, 3, 4]\n"
     ]
    }
   ],
   "source": [
    "list_a=[1,2,3,4]\n",
    "list_b=[2,3,4,5]\n",
    "\n",
    "common_num=[b for a in list_a for b in list_b if a==b]\n",
    "print(common_num)"
   ]
  },
  {
   "cell_type": "code",
   "execution_count": 24,
   "metadata": {},
   "outputs": [
    {
     "name": "stdout",
     "output_type": "stream",
     "text": [
      "[(1, 2), (1, 7), (2, 7), (3, 2), (3, 7)]\n"
     ]
    }
   ],
   "source": [
    "list_a=[1,2,3]\n",
    "list_b=[2,7]\n",
    "new_list=[(a,b) for a in list_a for b in list_b if a!=b]\n",
    "print(new_list)"
   ]
  },
  {
   "cell_type": "markdown",
   "metadata": {},
   "source": [
    "## Tuple"
   ]
  },
  {
   "cell_type": "code",
   "execution_count": 25,
   "metadata": {},
   "outputs": [],
   "source": [
    "# used to hold together multiple objects,they are immutable,(it is optional) used"
   ]
  },
  {
   "cell_type": "code",
   "execution_count": 26,
   "metadata": {},
   "outputs": [],
   "source": [
    "zoo=('python','elephant','penguin')\n"
   ]
  },
  {
   "cell_type": "code",
   "execution_count": 27,
   "metadata": {},
   "outputs": [
    {
     "name": "stdout",
     "output_type": "stream",
     "text": [
      "('python', 'elephant', 'penguin')\n"
     ]
    }
   ],
   "source": [
    "print(zoo)"
   ]
  },
  {
   "cell_type": "code",
   "execution_count": 28,
   "metadata": {},
   "outputs": [
    {
     "name": "stdout",
     "output_type": "stream",
     "text": [
      "number of animals in the zoo is  3\n"
     ]
    }
   ],
   "source": [
    "print('number of animals in the zoo is ',len(zoo))"
   ]
  },
  {
   "cell_type": "code",
   "execution_count": 29,
   "metadata": {},
   "outputs": [],
   "source": [
    "new_zoo='monkey','camle',zoo"
   ]
  },
  {
   "cell_type": "code",
   "execution_count": 30,
   "metadata": {},
   "outputs": [
    {
     "name": "stdout",
     "output_type": "stream",
     "text": [
      "number of cages in the zoo is 3\n"
     ]
    }
   ],
   "source": [
    "print('number of cages in the zoo is' ,len(new_zoo))"
   ]
  },
  {
   "cell_type": "code",
   "execution_count": 31,
   "metadata": {},
   "outputs": [
    {
     "name": "stdout",
     "output_type": "stream",
     "text": [
      "All animals in new zoo are  ('monkey', 'camle', ('python', 'elephant', 'penguin'))\n"
     ]
    }
   ],
   "source": [
    "print('All animals in new zoo are ',new_zoo)"
   ]
  },
  {
   "cell_type": "code",
   "execution_count": 32,
   "metadata": {},
   "outputs": [
    {
     "name": "stdout",
     "output_type": "stream",
     "text": [
      "animal brought from old zoo are  ('python', 'elephant', 'penguin')\n"
     ]
    }
   ],
   "source": [
    "print('animal brought from old zoo are ',new_zoo[2])\n"
   ]
  },
  {
   "cell_type": "code",
   "execution_count": 33,
   "metadata": {},
   "outputs": [
    {
     "name": "stdout",
     "output_type": "stream",
     "text": [
      "last animal brought from old zoo is penguin\n"
     ]
    }
   ],
   "source": [
    "print('last animal brought from old zoo is',new_zoo[2][2])"
   ]
  },
  {
   "cell_type": "code",
   "execution_count": 36,
   "metadata": {},
   "outputs": [
    {
     "name": "stdout",
     "output_type": "stream",
     "text": [
      "number of animal in the new zoo is  5\n"
     ]
    }
   ],
   "source": [
    "print('number of animal in the new zoo is ', len(new_zoo)-1+len(new_zoo[2]))"
   ]
  },
  {
   "cell_type": "code",
   "execution_count": 38,
   "metadata": {},
   "outputs": [
    {
     "name": "stdout",
     "output_type": "stream",
     "text": [
      "monkey\n",
      "camle\n",
      "python\n",
      "elephant\n",
      "penguin\n"
     ]
    }
   ],
   "source": [
    "for element in new_zoo:\n",
    "    if type(element).__name__=='tuple':\n",
    "        for ii in element:\n",
    "            print(ii)\n",
    "    else:\n",
    "        print(element)"
   ]
  },
  {
   "cell_type": "markdown",
   "metadata": {},
   "source": [
    "## set "
   ]
  },
  {
   "cell_type": "code",
   "execution_count": 40,
   "metadata": {},
   "outputs": [],
   "source": [
    " # identified by  curly braces\n",
    "   "
   ]
  },
  {
   "cell_type": "code",
   "execution_count": 41,
   "metadata": {},
   "outputs": [
    {
     "name": "stdout",
     "output_type": "stream",
     "text": [
      "{'Alice', 'Bob', 'Carol'}\n"
     ]
    }
   ],
   "source": [
    "x={'Alice','Bob','Carol'}\n",
    "print(x)"
   ]
  },
  {
   "cell_type": "code",
   "execution_count": 42,
   "metadata": {},
   "outputs": [
    {
     "name": "stdout",
     "output_type": "stream",
     "text": [
      "<class 'set'>\n"
     ]
    }
   ],
   "source": [
    "print(type(x))"
   ]
  },
  {
   "cell_type": "code",
   "execution_count": 43,
   "metadata": {},
   "outputs": [
    {
     "name": "stdout",
     "output_type": "stream",
     "text": [
      "{11, 22}\n"
     ]
    }
   ],
   "source": [
    "cset={11,11,22}\n",
    "print(cset)\n",
    "# Duplicates are eliminated"
   ]
  },
  {
   "cell_type": "code",
   "execution_count": 44,
   "metadata": {},
   "outputs": [],
   "source": [
    " # {'Dean'}  is a singleton\n",
    "    # can only contain unique elements"
   ]
  },
  {
   "cell_type": "code",
   "execution_count": 47,
   "metadata": {},
   "outputs": [],
   "source": [
    "# immutable,so need to change variable itself"
   ]
  },
  {
   "cell_type": "code",
   "execution_count": 48,
   "metadata": {},
   "outputs": [
    {
     "name": "stdout",
     "output_type": "stream",
     "text": [
      "{33, 11, 22, 55}\n"
     ]
    }
   ],
   "source": [
    "# operation in set\n",
    "aset={11,22,33}\n",
    "aset=aset|{55}\n",
    "print(aset)"
   ]
  },
  {
   "cell_type": "code",
   "execution_count": 49,
   "metadata": {},
   "outputs": [],
   "source": [
    "# sets have no order"
   ]
  },
  {
   "cell_type": "code",
   "execution_count": 50,
   "metadata": {},
   "outputs": [
    {
     "name": "stdout",
     "output_type": "stream",
     "text": [
      "{1, 2, 3, 4, 5, 6, 7}\n"
     ]
    }
   ],
   "source": [
    "print({1,2,3,4,5,6,7})"
   ]
  },
  {
   "cell_type": "code",
   "execution_count": 51,
   "metadata": {},
   "outputs": [
    {
     "name": "stdout",
     "output_type": "stream",
     "text": [
      "{33, 11, 22}\n"
     ]
    }
   ],
   "source": [
    "print({11,22,33})"
   ]
  },
  {
   "cell_type": "code",
   "execution_count": 53,
   "metadata": {},
   "outputs": [
    {
     "ename": "TypeError",
     "evalue": "'set' object is not subscriptable",
     "output_type": "error",
     "traceback": [
      "\u001b[1;31m---------------------------------------------------------------------------\u001b[0m",
      "\u001b[1;31mTypeError\u001b[0m                                 Traceback (most recent call last)",
      "\u001b[1;32m<ipython-input-53-505bb07265ba>\u001b[0m in \u001b[0;36m<module>\u001b[1;34m\u001b[0m\n\u001b[1;32m----> 1\u001b[1;33m \u001b[0mprint\u001b[0m\u001b[1;33m(\u001b[0m\u001b[0maset\u001b[0m\u001b[1;33m[\u001b[0m\u001b[1;36m0\u001b[0m\u001b[1;33m]\u001b[0m\u001b[1;33m)\u001b[0m\u001b[1;31m# indexing does not used in sets\u001b[0m\u001b[1;33m\u001b[0m\u001b[1;33m\u001b[0m\u001b[0m\n\u001b[0m",
      "\u001b[1;31mTypeError\u001b[0m: 'set' object is not subscriptable"
     ]
    }
   ],
   "source": [
    "print(aset[0])# indexing does not used in sets"
   ]
  },
  {
   "cell_type": "markdown",
   "metadata": {},
   "source": [
    "### Boolean Operation on set"
   ]
  },
  {
   "cell_type": "code",
   "execution_count": 54,
   "metadata": {},
   "outputs": [],
   "source": [
    "aset={11,22,33}\n",
    "bset={12,23,33}"
   ]
  },
  {
   "cell_type": "code",
   "execution_count": 55,
   "metadata": {},
   "outputs": [],
   "source": [
    "### Union of two sets"
   ]
  },
  {
   "cell_type": "code",
   "execution_count": 56,
   "metadata": {},
   "outputs": [
    {
     "name": "stdout",
     "output_type": "stream",
     "text": [
      "{33, 22, 23, 11, 12}\n"
     ]
    }
   ],
   "source": [
    "print(aset|bset)"
   ]
  },
  {
   "cell_type": "code",
   "execution_count": 57,
   "metadata": {},
   "outputs": [],
   "source": [
    "# intersection of two sets:"
   ]
  },
  {
   "cell_type": "code",
   "execution_count": 58,
   "metadata": {},
   "outputs": [
    {
     "name": "stdout",
     "output_type": "stream",
     "text": [
      "{33}\n"
     ]
    }
   ],
   "source": [
    "print(aset&bset)"
   ]
  },
  {
   "cell_type": "code",
   "execution_count": 59,
   "metadata": {},
   "outputs": [],
   "source": [
    "# Difference:"
   ]
  },
  {
   "cell_type": "code",
   "execution_count": 60,
   "metadata": {},
   "outputs": [
    {
     "name": "stdout",
     "output_type": "stream",
     "text": [
      "{11, 22}\n"
     ]
    }
   ],
   "source": [
    "print(aset-bset)"
   ]
  },
  {
   "cell_type": "code",
   "execution_count": 61,
   "metadata": {},
   "outputs": [],
   "source": [
    "# Symmetric Difference"
   ]
  },
  {
   "cell_type": "code",
   "execution_count": 62,
   "metadata": {},
   "outputs": [
    {
     "name": "stdout",
     "output_type": "stream",
     "text": [
      "{11, 12, 22, 23}\n"
     ]
    }
   ],
   "source": [
    "print(aset^bset)"
   ]
  },
  {
   "cell_type": "markdown",
   "metadata": {},
   "source": [
    "## Dictionary"
   ]
  },
  {
   "cell_type": "code",
   "execution_count": 63,
   "metadata": {},
   "outputs": [],
   "source": [
    "# like address-book,associate with key\n",
    "#keys are immutable\n",
    "#d={key1:value1,key2:value2}\n",
    "# sort them yourself "
   ]
  },
  {
   "cell_type": "code",
   "execution_count": 64,
   "metadata": {},
   "outputs": [],
   "source": [
    "ab={'som':'som@somch.com',\n",
    "   'Anup':'Anup@wall.org',\n",
    "   \"pranay\":\"Pranay@ruby.org\",\n",
    "   'vishal':'vishal@gmail.com'}\n"
   ]
  },
  {
   "cell_type": "code",
   "execution_count": 65,
   "metadata": {},
   "outputs": [
    {
     "name": "stdout",
     "output_type": "stream",
     "text": [
      "{'som': 'som@somch.com', 'Anup': 'Anup@wall.org', 'pranay': 'Pranay@ruby.org', 'vishal': 'vishal@gmail.com'}\n"
     ]
    }
   ],
   "source": [
    "print(ab)"
   ]
  },
  {
   "cell_type": "code",
   "execution_count": 66,
   "metadata": {},
   "outputs": [
    {
     "name": "stdout",
     "output_type": "stream",
     "text": [
      "<class 'dict'>\n"
     ]
    }
   ],
   "source": [
    "print(type(ab))"
   ]
  },
  {
   "cell_type": "code",
   "execution_count": 67,
   "metadata": {},
   "outputs": [
    {
     "name": "stdout",
     "output_type": "stream",
     "text": [
      "som's address is  som@somch.com\n"
     ]
    }
   ],
   "source": [
    "print(\"som's address is \",ab['som'])"
   ]
  },
  {
   "cell_type": "code",
   "execution_count": 68,
   "metadata": {},
   "outputs": [],
   "source": [
    "# Deleting a key-value pair"
   ]
  },
  {
   "cell_type": "code",
   "execution_count": 69,
   "metadata": {},
   "outputs": [],
   "source": [
    "del ab['vishal']"
   ]
  },
  {
   "cell_type": "code",
   "execution_count": 70,
   "metadata": {},
   "outputs": [
    {
     "name": "stdout",
     "output_type": "stream",
     "text": [
      "There are 3 contacts in the address-book\n"
     ]
    }
   ],
   "source": [
    "print('There are {} contacts in the address-book'.format(len(ab)))"
   ]
  },
  {
   "cell_type": "code",
   "execution_count": 71,
   "metadata": {},
   "outputs": [
    {
     "name": "stdout",
     "output_type": "stream",
     "text": [
      "dict_keys(['som', 'Anup', 'pranay'])\n"
     ]
    }
   ],
   "source": [
    "print(ab.keys())"
   ]
  },
  {
   "cell_type": "code",
   "execution_count": 73,
   "metadata": {},
   "outputs": [
    {
     "name": "stdout",
     "output_type": "stream",
     "text": [
      "dict_items([('som', 'som@somch.com'), ('Anup', 'Anup@wall.org'), ('pranay', 'Pranay@ruby.org')])\n"
     ]
    }
   ],
   "source": [
    "print(ab.items())"
   ]
  },
  {
   "cell_type": "code",
   "execution_count": 74,
   "metadata": {},
   "outputs": [
    {
     "name": "stdout",
     "output_type": "stream",
     "text": [
      "dict_values(['som@somch.com', 'Anup@wall.org', 'Pranay@ruby.org'])\n"
     ]
    }
   ],
   "source": [
    "print(ab.values())"
   ]
  },
  {
   "cell_type": "code",
   "execution_count": 76,
   "metadata": {},
   "outputs": [
    {
     "name": "stdout",
     "output_type": "stream",
     "text": [
      "Contact som at som@somch.com\n",
      "Contact Anup at Anup@wall.org\n",
      "Contact pranay at Pranay@ruby.org\n"
     ]
    }
   ],
   "source": [
    "for name,address in ab.items():\n",
    "    print('Contact {} at {}'.format(name,address))"
   ]
  },
  {
   "cell_type": "code",
   "execution_count": 77,
   "metadata": {},
   "outputs": [],
   "source": [
    "# Adding a key-value pair"
   ]
  },
  {
   "cell_type": "code",
   "execution_count": 78,
   "metadata": {},
   "outputs": [
    {
     "name": "stdout",
     "output_type": "stream",
     "text": [
      "{'som': 'som@somch.com', 'Anup': 'Anup@wall.org', 'pranay': 'Pranay@ruby.org', 'chinmay': 'Chinmay@python.org'}\n"
     ]
    }
   ],
   "source": [
    "ab['chinmay']='Chinmay@python.org'\n",
    "print(ab)"
   ]
  },
  {
   "cell_type": "code",
   "execution_count": 79,
   "metadata": {},
   "outputs": [
    {
     "name": "stdout",
     "output_type": "stream",
     "text": [
      "chinmay's address is Chinmay@python.org\n"
     ]
    }
   ],
   "source": [
    "if 'chinmay' in ab:\n",
    "    print(\"chinmay's address is\",ab['chinmay'])"
   ]
  },
  {
   "cell_type": "code",
   "execution_count": 80,
   "metadata": {},
   "outputs": [],
   "source": [
    "# Give multiple values in a keys"
   ]
  },
  {
   "cell_type": "code",
   "execution_count": 81,
   "metadata": {},
   "outputs": [],
   "source": [
    "Addr_details={'som':['swaroop@swaroopch.com',9090909080],\n",
    "             'anup':['Anupp@hsjf.org',8988979797]}"
   ]
  },
  {
   "cell_type": "code",
   "execution_count": 82,
   "metadata": {},
   "outputs": [
    {
     "name": "stdout",
     "output_type": "stream",
     "text": [
      "{'som': ['swaroop@swaroopch.com', 9090909080], 'anup': ['Anupp@hsjf.org', 8988979797]}\n"
     ]
    }
   ],
   "source": [
    "print(Addr_details)"
   ]
  },
  {
   "cell_type": "code",
   "execution_count": 83,
   "metadata": {},
   "outputs": [
    {
     "name": "stdout",
     "output_type": "stream",
     "text": [
      "Som,s mobile is 9090909080\n"
     ]
    }
   ],
   "source": [
    "print(\"Som,s mobile is\",Addr_details['som'][1])"
   ]
  },
  {
   "cell_type": "code",
   "execution_count": null,
   "metadata": {},
   "outputs": [],
   "source": []
  }
 ],
 "metadata": {
  "kernelspec": {
   "display_name": "Python 3",
   "language": "python",
   "name": "python3"
  },
  "language_info": {
   "codemirror_mode": {
    "name": "ipython",
    "version": 3
   },
   "file_extension": ".py",
   "mimetype": "text/x-python",
   "name": "python",
   "nbconvert_exporter": "python",
   "pygments_lexer": "ipython3",
   "version": "3.7.3"
  }
 },
 "nbformat": 4,
 "nbformat_minor": 2
}
