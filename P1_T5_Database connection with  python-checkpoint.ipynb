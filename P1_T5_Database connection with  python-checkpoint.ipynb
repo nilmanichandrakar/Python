{
 "cells": [
  {
   "cell_type": "markdown",
   "metadata": {},
   "source": [
    "# Using SQLite"
   ]
  },
  {
   "cell_type": "code",
   "execution_count": 29,
   "metadata": {},
   "outputs": [],
   "source": [
    "import sqlite3"
   ]
  },
  {
   "cell_type": "markdown",
   "metadata": {},
   "source": [
    "## Connecting SQLite to the Database"
   ]
  },
  {
   "cell_type": "code",
   "execution_count": 30,
   "metadata": {},
   "outputs": [],
   "source": [
    "# Create a database in RAM\n",
    "db=sqlite3.connect(':memory:') #database object"
   ]
  },
  {
   "cell_type": "code",
   "execution_count": 4,
   "metadata": {},
   "outputs": [],
   "source": [
    "# Creates or opens a file called mydb with a sqllite3DB\n",
    "db=sqlite3.connect('TestDB')"
   ]
  },
  {
   "cell_type": "code",
   "execution_count": 5,
   "metadata": {},
   "outputs": [],
   "source": [
    "# to close the connection\n",
    "db.close()"
   ]
  },
  {
   "cell_type": "markdown",
   "metadata": {},
   "source": [
    "## CRUD Operation-Create"
   ]
  },
  {
   "cell_type": "code",
   "execution_count": 6,
   "metadata": {},
   "outputs": [],
   "source": [
    "#create table"
   ]
  },
  {
   "cell_type": "code",
   "execution_count": 39,
   "metadata": {},
   "outputs": [],
   "source": [
    "db=sqlite3.connect('MyDB')\n"
   ]
  },
  {
   "cell_type": "code",
   "execution_count": 40,
   "metadata": {},
   "outputs": [],
   "source": [
    "# get  a cursor object\n",
    "cur=db.cursor()"
   ]
  },
  {
   "cell_type": "code",
   "execution_count": 41,
   "metadata": {},
   "outputs": [
    {
     "name": "stdout",
     "output_type": "stream",
     "text": [
      "Drop commond Successful\n"
     ]
    }
   ],
   "source": [
    "# Drop table if it already exist using execute()method.\n",
    "if cur.execute(\"DROP TABLE IF EXISTS custs\"):\n",
    "    print('Drop commond Successful')"
   ]
  },
  {
   "cell_type": "code",
   "execution_count": 103,
   "metadata": {},
   "outputs": [
    {
     "name": "stdout",
     "output_type": "stream",
     "text": [
      "Table Created\n"
     ]
    }
   ],
   "source": [
    "# Create Table \n",
    "if cur.execute('CREATE TABLE custs (id INTEGER PRIMARY KEY,name TEXT,phone TEXT,email TEXT unique,course TEXT)'):\n",
    "    print('Table Created')"
   ]
  },
  {
   "cell_type": "code",
   "execution_count": 43,
   "metadata": {},
   "outputs": [],
   "source": [
    "db.commit()"
   ]
  },
  {
   "cell_type": "code",
   "execution_count": 44,
   "metadata": {},
   "outputs": [],
   "source": [
    "cur.close()"
   ]
  },
  {
   "cell_type": "code",
   "execution_count": 45,
   "metadata": {},
   "outputs": [],
   "source": [
    "db.close()"
   ]
  },
  {
   "cell_type": "markdown",
   "metadata": {},
   "source": [
    "## CRUD OPeration -Insert"
   ]
  },
  {
   "cell_type": "code",
   "execution_count": 46,
   "metadata": {},
   "outputs": [],
   "source": [
    "#value can be passed as tuple or dictionary"
   ]
  },
  {
   "cell_type": "code",
   "execution_count": 47,
   "metadata": {},
   "outputs": [],
   "source": [
    "## Insert##"
   ]
  },
  {
   "cell_type": "code",
   "execution_count": 48,
   "metadata": {},
   "outputs": [],
   "source": [
    "db=sqlite3.connect('MyDB')\n",
    "cur=db.cursor()"
   ]
  },
  {
   "cell_type": "code",
   "execution_count": 49,
   "metadata": {},
   "outputs": [],
   "source": [
    "# Insert into custs"
   ]
  },
  {
   "cell_type": "code",
   "execution_count": 50,
   "metadata": {},
   "outputs": [
    {
     "name": "stdout",
     "output_type": "stream",
     "text": [
      "1 Record Inserted Successfully\n"
     ]
    }
   ],
   "source": [
    "if cur.execute('INSERT INTO custs(name,course) VALUES(?,?)',('Anup','python')):\n",
    "    print('1 Record Inserted Successfully')"
   ]
  },
  {
   "cell_type": "code",
   "execution_count": 51,
   "metadata": {},
   "outputs": [
    {
     "name": "stdout",
     "output_type": "stream",
     "text": [
      "2 Record Inserted Successfully\n"
     ]
    }
   ],
   "source": [
    "if cur.execute('INSERT INTO custs(name,course) VALUES(?,?)',('Neel','java')):\n",
    "    print('2 Record Inserted Successfully')"
   ]
  },
  {
   "cell_type": "code",
   "execution_count": 52,
   "metadata": {},
   "outputs": [],
   "source": [
    "# Insert into custs From Dictionary"
   ]
  },
  {
   "cell_type": "code",
   "execution_count": 53,
   "metadata": {},
   "outputs": [
    {
     "name": "stdout",
     "output_type": "stream",
     "text": [
      "3 Record Inserted Successfully\n"
     ]
    }
   ],
   "source": [
    "if cur.execute('INSERT INTO custs(name,course) VALUES(:name,:course)',{'name':'vishal','course':'python'}):\n",
    "    print('3 Record Inserted Successfully')"
   ]
  },
  {
   "cell_type": "code",
   "execution_count": 54,
   "metadata": {},
   "outputs": [],
   "source": [
    "# # Insert into custs using executemany"
   ]
  },
  {
   "cell_type": "code",
   "execution_count": 55,
   "metadata": {},
   "outputs": [
    {
     "name": "stdout",
     "output_type": "stream",
     "text": [
      "4 Record Inserted Successfully\n"
     ]
    }
   ],
   "source": [
    "if cur.executemany('INSERT INTO custs(name,course) VALUES(?,?)',[('vishal','python'),('Viraj','Android')]):\n",
    "    print('4 Record Inserted Successfully')"
   ]
  },
  {
   "cell_type": "code",
   "execution_count": 56,
   "metadata": {},
   "outputs": [],
   "source": [
    "db.commit()\n",
    "cur.close()\n",
    "db.close()"
   ]
  },
  {
   "cell_type": "markdown",
   "metadata": {},
   "source": [
    "## CRUD Operation -select(READ)"
   ]
  },
  {
   "cell_type": "code",
   "execution_count": 57,
   "metadata": {},
   "outputs": [],
   "source": [
    "## Select##"
   ]
  },
  {
   "cell_type": "code",
   "execution_count": 58,
   "metadata": {},
   "outputs": [],
   "source": [
    "db=sqlite3.connect('MyDB')\n",
    "cur=db.cursor()"
   ]
  },
  {
   "cell_type": "code",
   "execution_count": 59,
   "metadata": {},
   "outputs": [],
   "source": [
    "# Select cursor for custs"
   ]
  },
  {
   "cell_type": "code",
   "execution_count": 60,
   "metadata": {},
   "outputs": [
    {
     "name": "stdout",
     "output_type": "stream",
     "text": [
      "Record cursor is ready\n"
     ]
    }
   ],
   "source": [
    "if cur.execute('SELECT name,course from custs'):\n",
    "    print('Record cursor is ready')"
   ]
  },
  {
   "cell_type": "code",
   "execution_count": 61,
   "metadata": {},
   "outputs": [],
   "source": [
    "# Fetch using fetchone()"
   ]
  },
  {
   "cell_type": "code",
   "execution_count": 62,
   "metadata": {},
   "outputs": [
    {
     "name": "stdout",
     "output_type": "stream",
     "text": [
      "('Anup', 'python')\n"
     ]
    }
   ],
   "source": [
    "record1=cur.fetchone()\n",
    "print(record1)"
   ]
  },
  {
   "cell_type": "code",
   "execution_count": 63,
   "metadata": {},
   "outputs": [],
   "source": [
    "# Fetch using fetchall()"
   ]
  },
  {
   "cell_type": "code",
   "execution_count": 64,
   "metadata": {},
   "outputs": [
    {
     "name": "stdout",
     "output_type": "stream",
     "text": [
      "Neel,java\n",
      "vishal,python\n",
      "vishal,python\n",
      "Viraj,Android\n"
     ]
    }
   ],
   "source": [
    "recordsall=cur.fetchall()\n",
    "for record in recordsall:\n",
    "    print('{0},{1}'.format(record[0],record[1]))"
   ]
  },
  {
   "cell_type": "code",
   "execution_count": 65,
   "metadata": {},
   "outputs": [],
   "source": [
    "db.commit()\n",
    "cur.close()\n",
    "db.close()"
   ]
  },
  {
   "cell_type": "code",
   "execution_count": 66,
   "metadata": {},
   "outputs": [],
   "source": [
    "## select -continue##"
   ]
  },
  {
   "cell_type": "code",
   "execution_count": 67,
   "metadata": {},
   "outputs": [],
   "source": [
    "db=sqlite3.connect('MyDB')\n",
    "cur=db.cursor()"
   ]
  },
  {
   "cell_type": "code",
   "execution_count": 68,
   "metadata": {},
   "outputs": [
    {
     "name": "stdout",
     "output_type": "stream",
     "text": [
      "Record cursor is ready\n"
     ]
    }
   ],
   "source": [
    "if cur.execute('SELECT name,course from custs'):\n",
    "    print('Record cursor is ready')\n",
    "    \n",
    "    \n",
    "    "
   ]
  },
  {
   "cell_type": "code",
   "execution_count": 69,
   "metadata": {},
   "outputs": [],
   "source": [
    "# cursor object used as iterator"
   ]
  },
  {
   "cell_type": "code",
   "execution_count": 70,
   "metadata": {},
   "outputs": [
    {
     "name": "stdout",
     "output_type": "stream",
     "text": [
      "Anup,python\n",
      "Neel,java\n",
      "vishal,python\n",
      "vishal,python\n",
      "Viraj,Android\n"
     ]
    }
   ],
   "source": [
    "for record in cur:\n",
    "     print('{0},{1}'.format(record[0],record[1]))"
   ]
  },
  {
   "cell_type": "code",
   "execution_count": 71,
   "metadata": {},
   "outputs": [],
   "source": [
    "# select with where clause"
   ]
  },
  {
   "cell_type": "code",
   "execution_count": 72,
   "metadata": {},
   "outputs": [
    {
     "name": "stdout",
     "output_type": "stream",
     "text": [
      "Record cursor is ready\n"
     ]
    }
   ],
   "source": [
    "if cur.execute('SELECT name,course from custs WHERE name=?',('Anup',)):\n",
    "    print('Record cursor is ready')"
   ]
  },
  {
   "cell_type": "code",
   "execution_count": 73,
   "metadata": {},
   "outputs": [],
   "source": [
    "# Cursor object used as iterator "
   ]
  },
  {
   "cell_type": "code",
   "execution_count": 74,
   "metadata": {},
   "outputs": [
    {
     "name": "stdout",
     "output_type": "stream",
     "text": [
      "Anup,python\n"
     ]
    }
   ],
   "source": [
    "for record in cur:\n",
    "    print('{0},{1}'.format(record[0],record[1]))"
   ]
  },
  {
   "cell_type": "code",
   "execution_count": 75,
   "metadata": {},
   "outputs": [
    {
     "name": "stdout",
     "output_type": "stream",
     "text": [
      "Record cursor is ready\n"
     ]
    }
   ],
   "source": [
    "if cur.execute('SELECT name,course from custs WHERE course=?',('python',)):\n",
    "    print('Record cursor is ready')"
   ]
  },
  {
   "cell_type": "code",
   "execution_count": 76,
   "metadata": {},
   "outputs": [
    {
     "name": "stdout",
     "output_type": "stream",
     "text": [
      "Anup,python\n",
      "vishal,python\n",
      "vishal,python\n"
     ]
    }
   ],
   "source": [
    "for record in cur:\n",
    "    print('{0},{1}'.format(record[0],record[1]))"
   ]
  },
  {
   "cell_type": "code",
   "execution_count": 77,
   "metadata": {},
   "outputs": [],
   "source": [
    "db.commit()\n",
    "cur.close()\n",
    "db.close()"
   ]
  },
  {
   "cell_type": "markdown",
   "metadata": {},
   "source": [
    "## Crud operation-update"
   ]
  },
  {
   "cell_type": "code",
   "execution_count": 78,
   "metadata": {},
   "outputs": [],
   "source": [
    "# update process is same like insert"
   ]
  },
  {
   "cell_type": "code",
   "execution_count": 79,
   "metadata": {},
   "outputs": [],
   "source": [
    "#don't forgate to commit to save the change"
   ]
  },
  {
   "cell_type": "code",
   "execution_count": 80,
   "metadata": {},
   "outputs": [],
   "source": [
    "## Update##"
   ]
  },
  {
   "cell_type": "code",
   "execution_count": 81,
   "metadata": {},
   "outputs": [],
   "source": [
    "db=sqlite3.connect('MyDB')\n",
    "cur=db.cursor()"
   ]
  },
  {
   "cell_type": "code",
   "execution_count": 82,
   "metadata": {},
   "outputs": [
    {
     "name": "stdout",
     "output_type": "stream",
     "text": [
      "Record Update successfully\n"
     ]
    }
   ],
   "source": [
    "if cur.execute('UPDATE custs SET course =? WHERE name =?',('Spark','Anup')):\n",
    "    print('Record Update successfully')"
   ]
  },
  {
   "cell_type": "code",
   "execution_count": 83,
   "metadata": {},
   "outputs": [],
   "source": [
    "# select with where clause"
   ]
  },
  {
   "cell_type": "code",
   "execution_count": 84,
   "metadata": {},
   "outputs": [
    {
     "name": "stdout",
     "output_type": "stream",
     "text": [
      "Record cursor is ready\n"
     ]
    }
   ],
   "source": [
    "if cur.execute('SELECT name,course from custs WHERE name =?',('Anup',)):\n",
    "    print('Record cursor is ready')"
   ]
  },
  {
   "cell_type": "code",
   "execution_count": 85,
   "metadata": {},
   "outputs": [
    {
     "name": "stdout",
     "output_type": "stream",
     "text": [
      "Anup,Spark\n"
     ]
    }
   ],
   "source": [
    "for record in cur:\n",
    "     print('{0},{1}'.format(record[0],record[1]))"
   ]
  },
  {
   "cell_type": "code",
   "execution_count": 86,
   "metadata": {},
   "outputs": [],
   "source": [
    "db.commit()\n",
    "cur.close()\n",
    "db.close()"
   ]
  },
  {
   "cell_type": "markdown",
   "metadata": {},
   "source": [
    "### CRUD Operation-Delete (imp)"
   ]
  },
  {
   "cell_type": "code",
   "execution_count": 88,
   "metadata": {},
   "outputs": [],
   "source": [
    "# delete kevel data delete krta hai but Drop pura table delete kr deta hai"
   ]
  },
  {
   "cell_type": "code",
   "execution_count": 89,
   "metadata": {},
   "outputs": [],
   "source": [
    "# delete record with name equal to john"
   ]
  },
  {
   "cell_type": "code",
   "execution_count": 90,
   "metadata": {},
   "outputs": [],
   "source": [
    "db=sqlite3.connect('MyDB')\n",
    "cur=db.cursor()"
   ]
  },
  {
   "cell_type": "code",
   "execution_count": 92,
   "metadata": {},
   "outputs": [
    {
     "name": "stdout",
     "output_type": "stream",
     "text": [
      "Record Update successfully\n"
     ]
    }
   ],
   "source": [
    "# insert into custs\n",
    "if cur.execute('DELETE FROM custs WHERE name =?',('Neel',)):\n",
    "        print('Record Update successfully')"
   ]
  },
  {
   "cell_type": "code",
   "execution_count": 93,
   "metadata": {},
   "outputs": [
    {
     "name": "stdout",
     "output_type": "stream",
     "text": [
      "Record cursor is ready\n"
     ]
    }
   ],
   "source": [
    "# select cursor for custs\n",
    "if cur.execute('SELECT name,course from custs'):\n",
    "    print('Record cursor is ready')"
   ]
  },
  {
   "cell_type": "code",
   "execution_count": 94,
   "metadata": {},
   "outputs": [
    {
     "name": "stdout",
     "output_type": "stream",
     "text": [
      "Anup,Spark\n",
      "vishal,python\n",
      "vishal,python\n",
      "Viraj,Android\n"
     ]
    }
   ],
   "source": [
    "for record in cur:\n",
    "     print('{0},{1}'.format(record[0],record[1]))"
   ]
  },
  {
   "cell_type": "code",
   "execution_count": 95,
   "metadata": {},
   "outputs": [],
   "source": [
    "db.rollback()"
   ]
  },
  {
   "cell_type": "code",
   "execution_count": 96,
   "metadata": {},
   "outputs": [
    {
     "name": "stdout",
     "output_type": "stream",
     "text": [
      "Record cursor is ready\n"
     ]
    }
   ],
   "source": [
    "if cur.execute('SELECT name,course from custs'):\n",
    "    print('Record cursor is ready')"
   ]
  },
  {
   "cell_type": "code",
   "execution_count": 97,
   "metadata": {},
   "outputs": [
    {
     "name": "stdout",
     "output_type": "stream",
     "text": [
      "Anup,Spark\n",
      "Neel,java\n",
      "vishal,python\n",
      "vishal,python\n",
      "Viraj,Android\n"
     ]
    }
   ],
   "source": [
    "for record in cur:\n",
    "     print('{0},{1}'.format(record[0],record[1]))"
   ]
  },
  {
   "cell_type": "code",
   "execution_count": 98,
   "metadata": {},
   "outputs": [],
   "source": [
    "### if you are not committing than  you can rollback() and get previously commited state"
   ]
  },
  {
   "cell_type": "code",
   "execution_count": 99,
   "metadata": {},
   "outputs": [],
   "source": [
    "db.commit()\n",
    "cur.close()\n",
    "db.close()"
   ]
  },
  {
   "cell_type": "markdown",
   "metadata": {},
   "source": [
    "## DROP table"
   ]
  },
  {
   "cell_type": "code",
   "execution_count": 100,
   "metadata": {},
   "outputs": [],
   "source": [
    "db=sqlite3.connect('MyDB')\n",
    "cur=db.cursor()"
   ]
  },
  {
   "cell_type": "code",
   "execution_count": 101,
   "metadata": {},
   "outputs": [
    {
     "name": "stdout",
     "output_type": "stream",
     "text": [
      "Table is droped\n"
     ]
    }
   ],
   "source": [
    "if cur.execute('DROP TABLE custs'):\n",
    "    print('Table is droped')"
   ]
  },
  {
   "cell_type": "code",
   "execution_count": 102,
   "metadata": {},
   "outputs": [],
   "source": [
    "### now table is deleted"
   ]
  },
  {
   "cell_type": "markdown",
   "metadata": {},
   "source": [
    "### Task(to make table upto 5)"
   ]
  },
  {
   "cell_type": "code",
   "execution_count": 104,
   "metadata": {},
   "outputs": [],
   "source": [
    "db=sqlite3.connect('MyDB')\n",
    "cur=db.cursor()"
   ]
  },
  {
   "cell_type": "code",
   "execution_count": 117,
   "metadata": {},
   "outputs": [
    {
     "name": "stdout",
     "output_type": "stream",
     "text": [
      "Table Created\n"
     ]
    }
   ],
   "source": [
    "# Create Table \n",
    "if cur.execute('CREATE TABLE multable (num1 integer,num2 integer,num3 integer,num4 integer,num5 integer)'):\n",
    "    print('Table Created')"
   ]
  },
  {
   "cell_type": "code",
   "execution_count": 128,
   "metadata": {},
   "outputs": [
    {
     "name": "stdout",
     "output_type": "stream",
     "text": [
      "1 Record Inserted Successfully\n",
      "2 Record Inserted Successfully\n",
      "3 Record Inserted Successfully\n",
      "4 Record Inserted Successfully\n",
      "5 Record Inserted Successfully\n",
      "6 Record Inserted Successfully\n",
      "7 Record Inserted Successfully\n",
      "8 Record Inserted Successfully\n",
      "9 Record Inserted Successfully\n",
      "10 Record Inserted Successfully\n"
     ]
    }
   ],
   "source": [
    "for i  in range(1,11,1):\n",
    "    if cur.execute('INSERT INTO multable(num1,num2,num3,num4,num5) VALUES(?,?,?,?,?)',(i,i*2,i*3,i*4,i*5)):\n",
    "         print('{} Record Inserted Successfully'.format(i))\n",
    "    "
   ]
  },
  {
   "cell_type": "code",
   "execution_count": 129,
   "metadata": {},
   "outputs": [
    {
     "name": "stdout",
     "output_type": "stream",
     "text": [
      "Record cursor is ready\n"
     ]
    }
   ],
   "source": [
    "if cur.execute('SELECT num1,num2,num3,num4,num5 from multable'):\n",
    "    print('Record cursor is ready')"
   ]
  },
  {
   "cell_type": "code",
   "execution_count": 130,
   "metadata": {},
   "outputs": [
    {
     "name": "stdout",
     "output_type": "stream",
     "text": [
      "1 2 3 4 5\n",
      "2 4 6 8 10\n",
      "3 6 9 12 15\n",
      "4 8 12 16 20\n",
      "5 10 15 20 25\n",
      "6 12 18 24 30\n",
      "7 14 21 28 35\n",
      "8 16 24 32 40\n",
      "9 18 27 36 45\n",
      "1 2 3 4 5\n",
      "2 4 6 8 10\n",
      "3 6 9 12 15\n",
      "4 8 12 16 20\n",
      "5 10 15 20 25\n",
      "6 12 18 24 30\n",
      "7 14 21 28 35\n",
      "8 16 24 32 40\n",
      "9 18 27 36 45\n",
      "10 20 30 40 50\n"
     ]
    }
   ],
   "source": [
    "for i in cur:\n",
    "     print('{} {} {} {} {}'.format(i[0],i[1],i[2],i[3],i[4]))"
   ]
  },
  {
   "cell_type": "code",
   "execution_count": 131,
   "metadata": {},
   "outputs": [
    {
     "ename": "IndentationError",
     "evalue": "unexpected indent (<ipython-input-131-7da4374485dc>, line 2)",
     "output_type": "error",
     "traceback": [
      "\u001b[1;36m  File \u001b[1;32m\"<ipython-input-131-7da4374485dc>\"\u001b[1;36m, line \u001b[1;32m2\u001b[0m\n\u001b[1;33m    for i in cur:\u001b[0m\n\u001b[1;37m    ^\u001b[0m\n\u001b[1;31mIndentationError\u001b[0m\u001b[1;31m:\u001b[0m unexpected indent\n"
     ]
    }
   ],
   "source": [
    "# cur.execute(\"SELECT * from multable\")\n",
    " #for i in cur:\n",
    "    #print(i[0],i[1],i[2],i[3],i[4],)"
   ]
  },
  {
   "cell_type": "code",
   "execution_count": null,
   "metadata": {},
   "outputs": [],
   "source": []
  }
 ],
 "metadata": {
  "kernelspec": {
   "display_name": "Python 3",
   "language": "python",
   "name": "python3"
  },
  "language_info": {
   "codemirror_mode": {
    "name": "ipython",
    "version": 3
   },
   "file_extension": ".py",
   "mimetype": "text/x-python",
   "name": "python",
   "nbconvert_exporter": "python",
   "pygments_lexer": "ipython3",
   "version": "3.7.3"
  }
 },
 "nbformat": 4,
 "nbformat_minor": 2
}
